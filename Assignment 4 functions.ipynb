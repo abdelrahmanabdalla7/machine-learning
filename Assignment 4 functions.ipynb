{
 "cells": [
  {
   "cell_type": "markdown",
   "metadata": {},
   "source": [
    "### implement Fibonacci series using recursion"
   ]
  },
  {
   "cell_type": "code",
   "execution_count": null,
   "metadata": {},
   "outputs": [
    {
     "name": "stdout",
     "output_type": "stream",
     "text": [
      "Fibonacci Series:\n",
      "0 1 1 2 3 5 8 13 21 34 "
     ]
    }
   ],
   "source": [
    "def fibonacci(n):\n",
    "\n",
    "    if n <= 1:\n",
    "        return n\n",
    "    return fibonacci(n - 1) + fibonacci(n - 2)\n",
    "\n",
    "terms = 10  \n",
    "print(\"Fibonacci Series:\")\n",
    "for i in range(terms):\n",
    "    print(fibonacci(i), end=\" \")\n"
   ]
  },
  {
   "cell_type": "markdown",
   "metadata": {},
   "source": [
    "### prog to find all unique words and count the frequency of occurrence from a given list of string"
   ]
  },
  {
   "cell_type": "code",
   "execution_count": 13,
   "metadata": {},
   "outputs": [
    {
     "name": "stdout",
     "output_type": "stream",
     "text": [
      "Unique Words and Their Frequencies:\n",
      "this:2\n",
      "is:2\n",
      "a:1\n",
      "sample:1\n",
      "string:2\n",
      "another:1\n",
      "example:2\n",
      "strings:1\n",
      "are:1\n",
      "fun:1\n"
     ]
    }
   ],
   "source": [
    "def count_word_freq (strings):\n",
    "    word_count={}\n",
    "    for item in strings:\n",
    "        words=item.split()\n",
    "        for word in words:\n",
    "            word=word.lower()\n",
    "            word_count[word]=word_count.get(word,0)+1\n",
    "    return word_count\n",
    "\n",
    "strings = [\n",
    "    \"This is a sample string\",\n",
    "    \"This string is another example\",\n",
    "    \"Example strings are fun\"\n",
    "]\n",
    "frequencies=count_word_freq(strings)\n",
    "\n",
    "print(\"Unique Words and Their Frequencies:\")\n",
    "for word, count  in frequencies.items():\n",
    "    print (f\"{word}:{count}\")"
   ]
  },
  {
   "cell_type": "markdown",
   "metadata": {},
   "source": [
    "### python program that finds all the pairs of elements in a list whose sum equal to a given value"
   ]
  },
  {
   "cell_type": "code",
   "execution_count": 19,
   "metadata": {},
   "outputs": [
    {
     "name": "stdout",
     "output_type": "stream",
     "text": [
      "Pairs with the sum of 6 are:\n",
      "(1, 5)\n",
      "(1, 5)\n",
      "(7, -1)\n"
     ]
    }
   ],
   "source": [
    "def find_paris_with_sum(nums,target):\n",
    "    pairs=[]\n",
    "    \n",
    "    for i in range (len(nums)):\n",
    "        for j in range (i+1,len(nums)):\n",
    "            if nums [i] + nums [j] == target:\n",
    "                pairs.append((nums[i],nums[j]))\n",
    "    return pairs\n",
    "\n",
    "nums = [1, 5, 7, -1, 5]\n",
    "target_sum = 6\n",
    "\n",
    "result = find_paris_with_sum (nums, target_sum)\n",
    "\n",
    "print(\"Pairs with the sum of\", target_sum, \"are:\")\n",
    "for pairs in result:\n",
    "    print(pairs)\n",
    "    "
   ]
  },
  {
   "cell_type": "markdown",
   "metadata": {},
   "source": [
    "### python prog to find the two numbers whose product is max among all pairs in a given list of numbers "
   ]
  },
  {
   "cell_type": "code",
   "execution_count": 5,
   "metadata": {},
   "outputs": [
    {
     "name": "stdout",
     "output_type": "stream",
     "text": [
      "The maximum two numbers are num1= -9 , num= -4\n",
      " The product is 36\n"
     ]
    }
   ],
   "source": [
    "def max_multipilication (numbers):\n",
    "    if len(numbers) < 2:\n",
    "        raise ValueError (\"The list must contain at least two numbers\")\n",
    "    \n",
    "    numbers.sort()\n",
    "\n",
    "    prod1=numbers[-1] * numbers[-2]\n",
    "    prod2=numbers[0] * numbers[1]\n",
    "\n",
    "    if prod1 >= prod2:\n",
    "        return numbers[-1] , numbers [-2] , prod1\n",
    "    else:\n",
    "        return numbers[0] , numbers [1] , prod2\n",
    "        \n",
    "    \n",
    "numbers = [3,4,2,5,6,-2,-4,-9]\n",
    "num1 , num2 , max_prod = max_multipilication (numbers)\n",
    "print (f\"The maximum two numbers are num1= {num1} , num= {num2}\\n The product is {max_prod}\")\n",
    "\n"
   ]
  },
  {
   "cell_type": "markdown",
   "metadata": {},
   "source": [
    "### python function to take a number as a parameter and check whether the number is prime or not"
   ]
  },
  {
   "cell_type": "code",
   "execution_count": 12,
   "metadata": {},
   "outputs": [
    {
     "name": "stdout",
     "output_type": "stream",
     "text": [
      "number 65468498646846468 is not a prime number\n"
     ]
    }
   ],
   "source": [
    "def prime (n):\n",
    "    if n <=1:\n",
    "        return False\n",
    "    for i in range (2,n):\n",
    "        if n % i == 0:\n",
    "            return False\n",
    "        else:\n",
    "            return True\n",
    "\n",
    "num=65468498646846468\n",
    "if prime (num):\n",
    "    print (f\"number {num} is prime\")\n",
    "else:\n",
    "    print (f\"number {num} is not a prime number\")\n"
   ]
  },
  {
   "cell_type": "markdown",
   "metadata": {},
   "source": [
    "### prog to print the even number from a given list"
   ]
  },
  {
   "cell_type": "code",
   "execution_count": 22,
   "metadata": {},
   "outputs": [
    {
     "name": "stdout",
     "output_type": "stream",
     "text": [
      "number 8 is even\n",
      "number 3 is odd\n",
      "number 2 is even\n",
      "number 4 is even\n",
      "number 5 is odd\n",
      "number 7 is odd\n",
      "number 8 is even\n",
      "number 44 is even\n",
      "number 11 is odd\n"
     ]
    }
   ],
   "source": [
    "def even (n):\n",
    "    for i in  n:\n",
    "        if i%2 == 0 :\n",
    "            print (f\"number {i} is even\")\n",
    "        else:\n",
    "            print (f\"number {i} is odd\")\n",
    "\n",
    "num=[8,3,2,4,5,7,8,44,11]\n",
    "even(num)"
   ]
  },
  {
   "cell_type": "markdown",
   "metadata": {},
   "source": [
    "### function that will take a given string and reverse the order of the words"
   ]
  },
  {
   "cell_type": "code",
   "execution_count": 25,
   "metadata": {},
   "outputs": [
    {
     "name": "stdout",
     "output_type": "stream",
     "text": [
      "the original sentence is (hello world)\n",
      "the reversed sentence is (world hello)\n"
     ]
    }
   ],
   "source": [
    "def revering (sentence):\n",
    "    sentence=sentence.split()\n",
    "    return ' '.join(sentence [::-1])\n",
    "\n",
    "input_string=\"hello world\"\n",
    "reversed_sentence = revering(input_string)\n",
    "print (f\"the original sentence is ({input_string})\")\n",
    "print (f\"the reversed sentence is ({reversed_sentence})\")"
   ]
  },
  {
   "cell_type": "markdown",
   "metadata": {},
   "source": [
    "### given integer x return if x is palindrome and false if otherwise "
   ]
  },
  {
   "cell_type": "code",
   "execution_count": null,
   "metadata": {},
   "outputs": [
    {
     "name": "stdout",
     "output_type": "stream",
     "text": [
      "Is ama a palindrome? True\n",
      "Is -121 a palindrome? False\n",
      "Is 123 a palindrome? False\n"
     ]
    }
   ],
   "source": [
    "def palindrome (x):\n",
    "    if x<0 :\n",
    "        return False\n",
    "    return str(x) == str(x)[::-1]\n",
    "\n",
    "x = \"ama\"\n",
    "print(f\"Is {x} a palindrome? {palindrome(x)}\")\n",
    "\n",
    "x = -121\n",
    "print(f\"Is {x} a palindrome? {palindrome(x)}\")\n",
    "\n",
    "x = 123\n",
    "print(f\"Is {x} a palindrome? {palindrome(x)}\")"
   ]
  },
  {
   "cell_type": "markdown",
   "metadata": {},
   "source": [
    "### function to check whether the string is plaindrome or not"
   ]
  },
  {
   "cell_type": "code",
   "execution_count": 29,
   "metadata": {},
   "outputs": [
    {
     "name": "stdout",
     "output_type": "stream",
     "text": [
      "Is ama a palindrome? True\n",
      "Is ahmed a palindrome? False\n",
      "Is 123321 a palindrome? True\n"
     ]
    }
   ],
   "source": [
    "def palindrome (x):\n",
    "    return str(x) == str(x)[::-1]\n",
    "\n",
    "x = \"ama\"\n",
    "print(f\"Is {x} a palindrome? {palindrome(x)}\")\n",
    "\n",
    "x = \"ahmed\"\n",
    "print(f\"Is {x} a palindrome? {palindrome(x)}\")\n",
    "\n",
    "x = \"123321\"\n",
    "print(f\"Is {x} a palindrome? {palindrome(x)}\")"
   ]
  },
  {
   "cell_type": "markdown",
   "metadata": {},
   "source": [
    "### python functions to create and print a list where the values are the squares of numbers between 1 to 30 (both included)"
   ]
  },
  {
   "cell_type": "code",
   "execution_count": 30,
   "metadata": {},
   "outputs": [
    {
     "name": "stdout",
     "output_type": "stream",
     "text": [
      "[1, 4, 9, 16, 25, 36, 49, 64, 81, 100, 121, 144, 169, 196, 225, 256, 289, 324, 361, 400, 441, 484, 529, 576, 625, 676, 729, 784, 841, 900]\n"
     ]
    }
   ],
   "source": [
    "def create_squares_list():\n",
    "    squares = [x**2 for x in range(1, 31)]\n",
    "    return squares\n",
    "\n",
    "def print_squares_list():\n",
    "    squares = create_squares_list()\n",
    "    print(squares)\n",
    "\n",
    "print_squares_list()\n"
   ]
  }
 ],
 "metadata": {
  "kernelspec": {
   "display_name": "Python 3",
   "language": "python",
   "name": "python3"
  },
  "language_info": {
   "codemirror_mode": {
    "name": "ipython",
    "version": 3
   },
   "file_extension": ".py",
   "mimetype": "text/x-python",
   "name": "python",
   "nbconvert_exporter": "python",
   "pygments_lexer": "ipython3",
   "version": "3.13.0"
  }
 },
 "nbformat": 4,
 "nbformat_minor": 2
}
