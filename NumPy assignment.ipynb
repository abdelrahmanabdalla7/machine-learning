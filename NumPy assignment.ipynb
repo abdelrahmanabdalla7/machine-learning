{
 "cells": [
  {
   "cell_type": "markdown",
   "metadata": {},
   "source": [
    "### NumPy program to test whether none of the elements of a given array is zero.\n",
    "### NumPy program to test whether any of the elements of a given array is non-zero."
   ]
  },
  {
   "cell_type": "code",
   "execution_count": 4,
   "metadata": {},
   "outputs": [
    {
     "name": "stdout",
     "output_type": "stream",
     "text": [
      "None of the element in the array is zero\n",
      "At least one element in the array is zero\n"
     ]
    }
   ],
   "source": [
    "import numpy as np\n",
    "\n",
    "def test_array_zeros(arr):\n",
    "    if np.all (arr != 0):\n",
    "        return print(\"None of the element in the array is zero\")\n",
    "    else:\n",
    "        return print(\"At least one element in the array is zero\")\n",
    "    \n",
    "# Test the function\n",
    "arr = np.array([1, 2, 3, 4, 5])\n",
    "\n",
    "test_array_zeros(arr)\n",
    "\n",
    "arr = np.array([0, 2, 3, 4, 5])\n",
    "\n",
    "test_array_zeros(arr)\n"
   ]
  },
  {
   "cell_type": "markdown",
   "metadata": {},
   "source": [
    "### NumPy program to create an element-wise comparison (equal, equal within a tolerance) of two given"
   ]
  },
  {
   "cell_type": "code",
   "execution_count": 5,
   "metadata": {},
   "outputs": [
    {
     "data": {
      "text/plain": [
       "(array([ True,  True, False,  True,  True, False, False]),\n",
       " array([ True,  True, False,  True,  True,  True,  True]))"
      ]
     },
     "execution_count": 5,
     "metadata": {},
     "output_type": "execute_result"
    }
   ],
   "source": [
    "def compare_arrays (arr1,arr2,tolerance):\n",
    "    arr1=np.array(arr1)\n",
    "    arr2=np.array(arr2)\n",
    "    \n",
    "    equality=np.equal(arr1,arr2)\n",
    "    with_tolerance=np.isclose(arr1,arr2,atol=tolerance)\n",
    "    \n",
    "    return equality, with_tolerance\n",
    "array1=[0,1,2,3,4,5,6]\n",
    "array2=[0,1,2.3,3,4,5.1,6.2]\n",
    "tolerance=0.2\n",
    "compare_arrays(array1,array2,tolerance)"
   ]
  },
  {
   "cell_type": "markdown",
   "metadata": {},
   "source": [
    "### NumPy program to create an array of 10 zeros,10 ones, 10 fives."
   ]
  },
  {
   "cell_type": "code",
   "execution_count": 6,
   "metadata": {},
   "outputs": [
    {
     "name": "stdout",
     "output_type": "stream",
     "text": [
      "Zeros array=\n",
      "[0. 0. 0. 0. 0. 0. 0. 0. 0. 0.]\n",
      "Ones array=\n",
      "[1. 1. 1. 1. 1. 1. 1. 1. 1. 1.]\n",
      "Fives array\n",
      "[5 5 5 5 5 5 5 5 5 5]\n"
     ]
    }
   ],
   "source": [
    "zeros=np.zeros(10)\n",
    "ones=np.ones(10)\n",
    "fives=np.full(10,5)\n",
    "print(f\"Zeros array=\\n{zeros}\\nOnes array=\\n{ones}\\nFives array\\n{fives}\")"
   ]
  },
  {
   "cell_type": "markdown",
   "metadata": {},
   "source": [
    "### NumPy program to create an array of the integers from 30 to70."
   ]
  },
  {
   "cell_type": "code",
   "execution_count": 10,
   "metadata": {},
   "outputs": [
    {
     "name": "stdout",
     "output_type": "stream",
     "text": [
      "[30 31 32 33 34 35 36 37 38 39 40 41 42 43 44 45 46 47 48 49 50 51 52 53\n",
      " 54 55 56 57 58 59 60 61 62 63 64 65 66 67 68 69 70]\n"
     ]
    }
   ],
   "source": [
    "array30to70=np.arange(30,71)\n",
    "print(array30to70)"
   ]
  },
  {
   "cell_type": "markdown",
   "metadata": {},
   "source": [
    "### NumPy program to create a 3x3 identity matrix"
   ]
  },
  {
   "cell_type": "code",
   "execution_count": 12,
   "metadata": {},
   "outputs": [
    {
     "name": "stdout",
     "output_type": "stream",
     "text": [
      "[[1. 0. 0.]\n",
      " [0. 1. 0.]\n",
      " [0. 0. 1.]]\n"
     ]
    }
   ],
   "source": [
    "_3x3identyty=np.eye(3)\n",
    "print(_3x3identyty)"
   ]
  },
  {
   "cell_type": "markdown",
   "metadata": {},
   "source": [
    "### NumPy program to generate a random number between 0 and 1"
   ]
  },
  {
   "cell_type": "code",
   "execution_count": 16,
   "metadata": {},
   "outputs": [
    {
     "name": "stdout",
     "output_type": "stream",
     "text": [
      "0.09553950179333104\n"
     ]
    }
   ],
   "source": [
    "random_num_0_1=np.random.rand()\n",
    "print(random_num_0_1)"
   ]
  },
  {
   "cell_type": "markdown",
   "metadata": {},
   "source": [
    "### NumPy program to generate an array of 15 random numbers from a standard normal distribution"
   ]
  },
  {
   "cell_type": "code",
   "execution_count": 17,
   "metadata": {},
   "outputs": [
    {
     "name": "stdout",
     "output_type": "stream",
     "text": [
      "[0.6251822  0.52091569 0.20134599 0.86752496 0.07541606 0.54588781\n",
      " 0.6104359  0.88328169 0.8952219  0.53404803 0.86453727 0.18933984\n",
      " 0.94485996 0.71742568 0.78965302]\n"
     ]
    }
   ],
   "source": [
    "random_num=np.random.rand(15)\n",
    "print(random_num)"
   ]
  },
  {
   "cell_type": "markdown",
   "metadata": {},
   "source": [
    "### NumPy program to create a vector with values ranging from 15 to 55 and print all values except the first and last."
   ]
  },
  {
   "cell_type": "code",
   "execution_count": 19,
   "metadata": {},
   "outputs": [
    {
     "name": "stdout",
     "output_type": "stream",
     "text": [
      "[16 17 18 19 20 21 22 23 24 25 26 27 28 29 30 31 32 33 34 35 36 37 38 39\n",
      " 40 41 42 43 44 45 46 47 48 49 50 51 52 53 54]\n"
     ]
    }
   ],
   "source": [
    "vector= np.arange(16,55)\n",
    "print(vector)"
   ]
  },
  {
   "cell_type": "markdown",
   "metadata": {},
   "source": [
    "### NumPy program to create a vector of length 5 filled with arbitrary integers from 0 to 10"
   ]
  },
  {
   "cell_type": "code",
   "execution_count": 20,
   "metadata": {},
   "outputs": [
    {
     "name": "stdout",
     "output_type": "stream",
     "text": [
      "[ 9 10  5  5  0]\n"
     ]
    }
   ],
   "source": [
    "vector= np.random.randint(0,11, size=5)\n",
    "print(vector)"
   ]
  },
  {
   "cell_type": "markdown",
   "metadata": {},
   "source": [
    "### NumPy program to create a 10x10 matrix, in which the elements on the borders will be equal to 1, and inside 0."
   ]
  },
  {
   "cell_type": "code",
   "execution_count": 27,
   "metadata": {},
   "outputs": [
    {
     "name": "stdout",
     "output_type": "stream",
     "text": [
      "[[1. 1. 1. 1. 1. 1. 1. 1. 1. 1.]\n",
      " [1. 0. 0. 0. 0. 0. 0. 0. 0. 1.]\n",
      " [1. 0. 0. 0. 0. 0. 0. 0. 0. 1.]\n",
      " [1. 0. 0. 0. 0. 0. 0. 0. 0. 1.]\n",
      " [1. 0. 0. 0. 0. 0. 0. 0. 0. 1.]\n",
      " [1. 0. 0. 0. 0. 0. 0. 0. 0. 1.]\n",
      " [1. 0. 0. 0. 0. 0. 0. 0. 0. 1.]\n",
      " [1. 0. 0. 0. 0. 0. 0. 0. 0. 1.]\n",
      " [1. 0. 0. 0. 0. 0. 0. 0. 0. 1.]\n",
      " [1. 1. 1. 1. 1. 1. 1. 1. 1. 1.]]\n"
     ]
    }
   ],
   "source": [
    "matrix= np.zeros((10,10))\n",
    "matrix[0, :]=1\n",
    "matrix[: ,0]=1\n",
    "matrix[-1, :]=1\n",
    "matrix[: , -1]=1\n",
    "print(matrix)"
   ]
  },
  {
   "cell_type": "markdown",
   "metadata": {},
   "source": [
    "### Write a NumPy program to create a 5x5 zero matrix with elements on the main diagonal equal to 1, 2, 3, 4, 5."
   ]
  },
  {
   "cell_type": "code",
   "execution_count": 29,
   "metadata": {},
   "outputs": [
    {
     "name": "stdout",
     "output_type": "stream",
     "text": [
      "[[1. 0. 0. 0. 0.]\n",
      " [0. 2. 0. 0. 0.]\n",
      " [0. 0. 3. 0. 0.]\n",
      " [0. 0. 0. 4. 0.]\n",
      " [0. 0. 0. 0. 5.]]\n"
     ]
    }
   ],
   "source": [
    "matrixd=np.zeros((5,5))\n",
    "np.fill_diagonal(matrixd,[1,2,3,4,5])\n",
    "print(matrixd)\n"
   ]
  },
  {
   "cell_type": "markdown",
   "metadata": {},
   "source": [
    "### NumPy program to create a 4x4 matrix in which 0 and 1 are staggered, with zeros on the main diagonal."
   ]
  },
  {
   "cell_type": "code",
   "execution_count": 36,
   "metadata": {},
   "outputs": [
    {
     "name": "stdout",
     "output_type": "stream",
     "text": [
      "[[0. 0. 1. 0.]\n",
      " [0. 0. 0. 1.]\n",
      " [1. 0. 0. 0.]\n",
      " [0. 1. 0. 0.]]\n"
     ]
    }
   ],
   "source": [
    "matrix4=np.ones((4,4))\n",
    "np.fill_diagonal(matrix4, 0)\n",
    "matrix4[1::2, ::2] = 0\n",
    "matrix4[::2, 1::2] = 0\n",
    "\n",
    "print(matrix4)"
   ]
  },
  {
   "cell_type": "markdown",
   "metadata": {},
   "source": [
    "### NumPy program to save two given arrays into a single file in compressed format (.npz format) and load it."
   ]
  },
  {
   "cell_type": "code",
   "execution_count": 43,
   "metadata": {},
   "outputs": [
    {
     "name": "stdout",
     "output_type": "stream",
     "text": [
      "[1 2 3 4 5]\n",
      "[ 6  7  8  9 10]\n"
     ]
    }
   ],
   "source": [
    "array11=np.array([1,2,3,4,5])\n",
    "array22=np.array([6,7,8,9,10])\n",
    "np.savez_compressed('array.npz',array111=array11,array222=array22)\n",
    "loaded_data= np.load('array.npz')\n",
    "loaded_array1 = loaded_data['array111']\n",
    "loaded_array2=loaded_data['array222']\n",
    "print(loaded_array1)\n",
    "print(loaded_array2)"
   ]
  },
  {
   "cell_type": "markdown",
   "metadata": {},
   "source": [
    "### NumPy program to create a one-dimensional array of forty pseudo-randomly generated values. Select"
   ]
  },
  {
   "cell_type": "code",
   "execution_count": 82,
   "metadata": {},
   "outputs": [
    {
     "name": "stdout",
     "output_type": "stream",
     "text": [
      "[ 0.94246389 -1.05069037 -1.18458538  0.54995502 -0.94408177 -0.71612958\n",
      "  0.91376905 -0.35472242 -1.14931398 -0.73759777 -1.01934039  0.51468735\n",
      " -0.80120629  0.87318777 -0.36764631 -0.36882394 -1.13627214  0.23915895\n",
      "  1.49961487 -0.11115076 -0.33151431 -1.40318607  2.46929378  1.34756962\n",
      "  0.88756786 -0.22204582 -0.41026287 -0.7031011   0.45507757  0.35687894\n",
      " -1.28751665  0.5708277  -0.01913947  0.93812616  0.85749702 -0.07787328\n",
      "  0.60738702 -2.10479133 -1.12985998  0.42255251]\n"
     ]
    }
   ],
   "source": [
    "random_array=np.random.randn(40)\n",
    "print (random_array)"
   ]
  }
 ],
 "metadata": {
  "kernelspec": {
   "display_name": "Python 3",
   "language": "python",
   "name": "python3"
  },
  "language_info": {
   "codemirror_mode": {
    "name": "ipython",
    "version": 3
   },
   "file_extension": ".py",
   "mimetype": "text/x-python",
   "name": "python",
   "nbconvert_exporter": "python",
   "pygments_lexer": "ipython3",
   "version": "3.13.0"
  }
 },
 "nbformat": 4,
 "nbformat_minor": 2
}
