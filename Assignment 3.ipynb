{
 "cells": [
  {
   "cell_type": "markdown",
   "metadata": {},
   "source": [
    "### Python program to add an item to a tuple."
   ]
  },
  {
   "cell_type": "code",
   "execution_count": 3,
   "metadata": {},
   "outputs": [
    {
     "name": "stdout",
     "output_type": "stream",
     "text": [
      "(1, 2, 3, 4, 5, 6, 7)\n",
      "(1, 2, 3, 4, 5, 6, 7, 8)\n"
     ]
    }
   ],
   "source": [
    "t_1=(1,2,3,4,5,6,7)\n",
    "added=8\n",
    "\n",
    "t_2=t_1+ (added,)\n",
    "print(t_1)\n",
    "print (t_2)"
   ]
  },
  {
   "cell_type": "markdown",
   "metadata": {},
   "source": [
    "### Python program to sum all the items in a list."
   ]
  },
  {
   "cell_type": "code",
   "execution_count": 4,
   "metadata": {},
   "outputs": [
    {
     "name": "stdout",
     "output_type": "stream",
     "text": [
      "45\n"
     ]
    }
   ],
   "source": [
    "L=[1,2,3,4,5,6,7,8,9]\n",
    "sum=0\n",
    "for i in L:\n",
    "    sum +=i\n",
    "print(sum)"
   ]
  },
  {
   "cell_type": "markdown",
   "metadata": {},
   "source": [
    "### Python program to multiply all the items in a list."
   ]
  },
  {
   "cell_type": "code",
   "execution_count": 7,
   "metadata": {},
   "outputs": [
    {
     "name": "stdout",
     "output_type": "stream",
     "text": [
      "362880\n"
     ]
    }
   ],
   "source": [
    "L=[1,2,3,4,5,6,7,8,9]\n",
    "multiplication=1\n",
    "\n",
    "for i in L:\n",
    "    multiplication *= i\n",
    "print(multiplication)"
   ]
  },
  {
   "cell_type": "markdown",
   "metadata": {},
   "source": [
    "### Python program to get the smallest number from a list."
   ]
  },
  {
   "cell_type": "code",
   "execution_count": null,
   "metadata": {},
   "outputs": [
    {
     "name": "stdout",
     "output_type": "stream",
     "text": [
      "1\n"
     ]
    }
   ],
   "source": [
    "L=[2,3,32,5,6,22,3,1,6,7]\n",
    "smallest_num= min(L)\n",
    "print(smallest_num)"
   ]
  },
  {
   "cell_type": "markdown",
   "metadata": {},
   "source": [
    "### Python program to get the largest number from a list."
   ]
  },
  {
   "cell_type": "code",
   "execution_count": 9,
   "metadata": {},
   "outputs": [
    {
     "name": "stdout",
     "output_type": "stream",
     "text": [
      "32\n"
     ]
    }
   ],
   "source": [
    "largest_num=max(L)\n",
    "print(largest_num)"
   ]
  },
  {
   "cell_type": "markdown",
   "metadata": {},
   "source": [
    "### Python program to count the number of strings from a given list of strings."
   ]
  },
  {
   "cell_type": "code",
   "execution_count": 10,
   "metadata": {},
   "outputs": [
    {
     "name": "stdout",
     "output_type": "stream",
     "text": [
      "number if string in list is : 4\n"
     ]
    }
   ],
   "source": [
    "Str_1=[\"ahmed\",\"Mostafa\",22,\"Abdelrahman\",45,\"Python\"]\n",
    "count=0\n",
    "\n",
    "for item in Str_1:\n",
    "    if isinstance (item,str):\n",
    "        count += 1\n",
    "\n",
    "print(\"number if string in list is :\",count)"
   ]
  },
  {
   "cell_type": "markdown",
   "metadata": {},
   "source": [
    "### Python program to clone or copy a list"
   ]
  },
  {
   "cell_type": "code",
   "execution_count": 14,
   "metadata": {},
   "outputs": [
    {
     "name": "stdout",
     "output_type": "stream",
     "text": [
      "Original list is : [1, 2, 2, 3, 5, 6, 2]\n",
      "copied list is : [1, 2, 2, 3, 5, 6, 2]\n"
     ]
    }
   ],
   "source": [
    "original=[1,2,2,3,5,6,2]\n",
    "copied=original.copy()\n",
    "print(\"Original list is :\" , original)\n",
    "print(\"copied list is :\" , copied)"
   ]
  },
  {
   "cell_type": "markdown",
   "metadata": {},
   "source": [
    "### Python program to remove item(s) from a given set."
   ]
  },
  {
   "cell_type": "code",
   "execution_count": 18,
   "metadata": {},
   "outputs": [
    {
     "name": "stdout",
     "output_type": "stream",
     "text": [
      "{1, 2, 4}\n"
     ]
    }
   ],
   "source": [
    "set_1={1,2,3,4,2,3,4}\n",
    "set_1.remove(3)\n",
    "print(set_1)"
   ]
  },
  {
   "cell_type": "markdown",
   "metadata": {},
   "source": [
    "### Python program to check if a set is a subset of another set."
   ]
  },
  {
   "cell_type": "code",
   "execution_count": 19,
   "metadata": {},
   "outputs": [
    {
     "name": "stdout",
     "output_type": "stream",
     "text": [
      "True\n"
     ]
    }
   ],
   "source": [
    "set_3={2,3,4,5,6,7}\n",
    "set_4={2,3,4,2,5}\n",
    "\n",
    "subset=set_4.issubset(set_3)\n",
    "\n",
    "print(subset)"
   ]
  },
  {
   "cell_type": "markdown",
   "metadata": {},
   "source": [
    "### Python program to remove all elements from a given set."
   ]
  },
  {
   "cell_type": "code",
   "execution_count": 20,
   "metadata": {},
   "outputs": [
    {
     "name": "stdout",
     "output_type": "stream",
     "text": [
      "set()\n"
     ]
    }
   ],
   "source": [
    "set_1={2,3,4,5,6,7,8}\n",
    "set_1.clear()\n",
    "print(set_1)"
   ]
  },
  {
   "cell_type": "markdown",
   "metadata": {},
   "source": [
    "### Python program to find the maximum and minimum values in a set."
   ]
  },
  {
   "cell_type": "code",
   "execution_count": 21,
   "metadata": {},
   "outputs": [
    {
     "name": "stdout",
     "output_type": "stream",
     "text": [
      "maximum value =  312\n",
      "minimum value =  2\n"
     ]
    }
   ],
   "source": [
    "set_5={33,4,55,2,3,4,77,123,312}\n",
    "max_value=max(set_5)\n",
    "min_value=min(set_5)\n",
    "print(\"maximum value = \",max_value)\n",
    "print(\"minimum value = \",min_value)"
   ]
  },
  {
   "cell_type": "markdown",
   "metadata": {},
   "source": [
    "### Python program to find the index of an item in a tuple."
   ]
  },
  {
   "cell_type": "code",
   "execution_count": 25,
   "metadata": {},
   "outputs": [
    {
     "name": "stdout",
     "output_type": "stream",
     "text": [
      "not found\n"
     ]
    }
   ],
   "source": [
    "t_1=(2,3,4,2,33,4,22,3)\n",
    "item=7\n",
    "if item in t_1:\n",
    "    index=t_1.index(item)\n",
    "    print (index)\n",
    "else:\n",
    "    print(\"not found\")"
   ]
  },
  {
   "cell_type": "markdown",
   "metadata": {},
   "source": [
    "### Python program to convert a tuple to a dictionary."
   ]
  },
  {
   "cell_type": "code",
   "execution_count": 27,
   "metadata": {},
   "outputs": [
    {
     "name": "stdout",
     "output_type": "stream",
     "text": [
      "{1: 2, 'a': 3, 4: 'b'}\n"
     ]
    }
   ],
   "source": [
    "new_tuple=((1,2),(\"a\",3),(4,\"b\"))\n",
    "my_dict=dict(new_tuple)\n",
    "print(my_dict)"
   ]
  },
  {
   "cell_type": "markdown",
   "metadata": {},
   "source": [
    "### Python program to unzip a list of tuples into individual lists"
   ]
  },
  {
   "cell_type": "code",
   "execution_count": 28,
   "metadata": {},
   "outputs": [
    {
     "name": "stdout",
     "output_type": "stream",
     "text": [
      "(1, 3, 5, 7)\n",
      "(2, 4, 6, 8)\n"
     ]
    }
   ],
   "source": [
    "list_of_tuples=[(1,2),(3,4),(5,6),(7,8)]\n",
    "list_1 , list_2 =zip(*list_of_tuples)\n",
    "print(list_1)\n",
    "print(list_2)"
   ]
  },
  {
   "cell_type": "markdown",
   "metadata": {},
   "source": [
    "### Python program to reverse a tuple."
   ]
  },
  {
   "cell_type": "code",
   "execution_count": 30,
   "metadata": {},
   "outputs": [
    {
     "name": "stdout",
     "output_type": "stream",
     "text": [
      "(5, 4, 3, 2, 1)\n"
     ]
    }
   ],
   "source": [
    "Nn=(1,2,3,4,5)\n",
    "reversed_tuple=Nn[::-1]\n",
    "print(reversed_tuple)"
   ]
  },
  {
   "cell_type": "markdown",
   "metadata": {},
   "source": [
    "### Python program to convert a list of tuples into a dictionary."
   ]
  },
  {
   "cell_type": "code",
   "execution_count": 31,
   "metadata": {},
   "outputs": [
    {
     "name": "stdout",
     "output_type": "stream",
     "text": [
      "{'a': 1, 'b': 2, 'c': 3}\n"
     ]
    }
   ],
   "source": [
    "list_of_tuples_1= [(\"a\", 1), (\"b\", 2), (\"c\", 3)]\n",
    "dicts=dict(list_of_tuples_1)\n",
    "print(dicts)"
   ]
  },
  {
   "cell_type": "markdown",
   "metadata": {},
   "source": [
    "### Python program to replace the last value of tuples in a list."
   ]
  },
  {
   "cell_type": "code",
   "execution_count": 33,
   "metadata": {},
   "outputs": [
    {
     "name": "stdout",
     "output_type": "stream",
     "text": [
      "[(10, 20, 100), (40, 50, 100), (70, 80, 100)]\n"
     ]
    }
   ],
   "source": [
    "Sample_list= [(10, 20, 40), (40, 50, 60), (70, 80, 90)]\n",
    "modif_list=[]\n",
    "for tup in Sample_list:\n",
    "    modif_list.append((tup[0],tup[1],100))\n",
    "print (modif_list)"
   ]
  },
  {
   "cell_type": "markdown",
   "metadata": {},
   "source": [
    "### Python program to sort a tuple by its float element."
   ]
  },
  {
   "cell_type": "code",
   "execution_count": 35,
   "metadata": {},
   "outputs": [
    {
     "name": "stdout",
     "output_type": "stream",
     "text": [
      "[(3, 1.2), (1, 2.5), (7, 3.3), (5, 4.8)]\n"
     ]
    }
   ],
   "source": [
    "tuple_list3= [(1, 2.5), (3, 1.2), (5, 4.8), (7, 3.3)]\n",
    "sorted_list=sorted(tuple_list3, key=lambda x:x[1])\n",
    "print(sorted_list)"
   ]
  }
 ],
 "metadata": {
  "kernelspec": {
   "display_name": "Python 3",
   "language": "python",
   "name": "python3"
  },
  "language_info": {
   "codemirror_mode": {
    "name": "ipython",
    "version": 3
   },
   "file_extension": ".py",
   "mimetype": "text/x-python",
   "name": "python",
   "nbconvert_exporter": "python",
   "pygments_lexer": "ipython3",
   "version": "3.13.0"
  }
 },
 "nbformat": 4,
 "nbformat_minor": 2
}
