{
 "cells": [
  {
   "cell_type": "markdown",
   "metadata": {},
   "source": [
    "### Python program to create a calculator class. Include methods for basic arithmetic operations"
   ]
  },
  {
   "cell_type": "code",
   "execution_count": 10,
   "metadata": {},
   "outputs": [
    {
     "name": "stdout",
     "output_type": "stream",
     "text": [
      "3+2=5\n",
      "3*2=6\n",
      "50/2=25.0\n",
      "7-9=-2\n"
     ]
    }
   ],
   "source": [
    "class calculator:\n",
    "    def add (self,a,b):\n",
    "        return print (f\"{a}+{b}={a+b}\")\n",
    "    def subtract (self,a,b):\n",
    "        return print(f\"{a}-{b}={a-b}\")\n",
    "    def multipictaion (self,a,b):\n",
    "        return print(f\"{a}*{b}={a*b}\")\n",
    "    def divid (self,a,b):\n",
    "       if b!=0:\n",
    "           return print(f\"{a}/{b}={a/b}\")\n",
    "       else:\n",
    "           return \"Error! Division by zero\"\n",
    "\n",
    "calc=calculator()\n",
    "calc.add(3,2)\n",
    "calc.multipictaion(3,2)\n",
    "calc.divid(50,2)\n",
    "calc.subtract(7,9)"
   ]
  },
  {
   "cell_type": "markdown",
   "metadata": {},
   "source": [
    "### Write a Rectangle class in Python language, allowing you to build a rectangle with length and width attributes."
   ]
  },
  {
   "cell_type": "code",
   "execution_count": null,
   "metadata": {},
   "outputs": [
    {
     "name": "stdout",
     "output_type": "stream",
     "text": [
      "Area= 10 * 5 = 50\n",
      "perimeter= 2 * (10 + 5) = 30\n",
      "Length=10\n",
      "Width=5\n"
     ]
    }
   ],
   "source": [
    "class rectangle:\n",
    "    def __init__(self,length,width):\n",
    "        self.length=length\n",
    "        self.width=width\n",
    "    def area(self):\n",
    "        return print(f\"Area= {self.length} * {self.width} = {self.length*self.width}\")\n",
    "    def perimeter(self):\n",
    "        return print (f\"perimeter= 2 * ({self.length} + {self.width}) = {2*(self.length+self.width)}\")\n",
    "\n",
    "    \n",
    "rect= rectangle(10,5)\n",
    "rect.area()\n",
    "rect.perimeter()\n",
    "print(f\"Length={rect.length}\")\n",
    "print(f\"Width={rect.width}\")"
   ]
  },
  {
   "cell_type": "markdown",
   "metadata": {},
   "source": [
    "### Create a Parallelepipede child class inheriting from the Rectangle class and with a height attribute and another Volume() method to calculate the volume of the Parallelepiped."
   ]
  },
  {
   "cell_type": "code",
   "execution_count": 44,
   "metadata": {},
   "outputs": [
    {
     "name": "stdout",
     "output_type": "stream",
     "text": [
      "area= 50\n",
      "perimeter= 2 * (10 + 5) = 30\n",
      "Length=10\n",
      "Width=5\n",
      "Volume: 100\n"
     ]
    }
   ],
   "source": [
    "class rectangle:\n",
    "    def __init__(self,length,width):\n",
    "        self.length=length\n",
    "        self.width=width\n",
    "    def area(self):\n",
    "        return self.length * self.width\n",
    "    def perimeter(self):\n",
    "        return print (f\"perimeter= 2 * ({self.length} + {self.width}) = {2*(self.length+self.width)}\")\n",
    "class parallelpipede(rectangle):\n",
    "    def __init__(self, length, width,height):\n",
    "        super().__init__(length, width)\n",
    "        self.height=height\n",
    "    def volume(self):\n",
    "        return self.area() * self.height\n",
    "    \n",
    "    \n",
    "rect= rectangle(10,5)\n",
    "print(f\"area= {rect.area()}\")\n",
    "rect.perimeter()\n",
    "print(f\"Length={rect.length}\")\n",
    "print(f\"Width={rect.width}\")\n",
    "para = parallelpipede(10, 5, 2)\n",
    "print(f\"Volume: {para.volume()}\")"
   ]
  },
  {
   "cell_type": "markdown",
   "metadata": {},
   "source": [
    "### Create a Python class Person with attributes: name and age of type string."
   ]
  },
  {
   "cell_type": "code",
   "execution_count": 53,
   "metadata": {},
   "outputs": [
    {
     "name": "stdout",
     "output_type": "stream",
     "text": [
      "Name: Asser \n",
      "Age: 30\n",
      "Name: Amr \n",
      "Age: 20\n",
      "section: 2\n"
     ]
    }
   ],
   "source": [
    "class person:\n",
    "    def __init__(self,name,age):\n",
    "        self.name=name\n",
    "        self.age=age\n",
    "    def display(self):\n",
    "        print(f\"Name: {self.name} \\nAge: {self.age}\")\n",
    "per1=person(\"Asser\",30)\n",
    "per1.display()\n",
    "\n",
    "class student(person):\n",
    "    def __init__(self, name, age, section):\n",
    "        super().__init__(name, age)\n",
    "        self.section=section\n",
    "    def display(self):\n",
    "        super().display()\n",
    "        print (f\"section: {self.section}\")\n",
    "stud1=student(\"Amr\",20,2)\n",
    "stud1.display()"
   ]
  }
 ],
 "metadata": {
  "kernelspec": {
   "display_name": "Python 3",
   "language": "python",
   "name": "python3"
  },
  "language_info": {
   "codemirror_mode": {
    "name": "ipython",
    "version": 3
   },
   "file_extension": ".py",
   "mimetype": "text/x-python",
   "name": "python",
   "nbconvert_exporter": "python",
   "pygments_lexer": "ipython3",
   "version": "3.13.0"
  }
 },
 "nbformat": 4,
 "nbformat_minor": 2
}
