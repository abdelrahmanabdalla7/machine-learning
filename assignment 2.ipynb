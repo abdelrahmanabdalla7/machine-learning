{
 "cells": [
  {
   "cell_type": "markdown",
   "metadata": {},
   "source": [
    "#########################TUPLE######################"
   ]
  },
  {
   "cell_type": "markdown",
   "metadata": {},
   "source": [
    "###Python program to create a tuple of numbers and print one item."
   ]
  },
  {
   "cell_type": "code",
   "execution_count": 1,
   "metadata": {},
   "outputs": [
    {
     "name": "stdout",
     "output_type": "stream",
     "text": [
      "55\n"
     ]
    }
   ],
   "source": [
    "n=(23,4,55,32,3,1)\n",
    "print(n[2])"
   ]
  },
  {
   "cell_type": "markdown",
   "metadata": {},
   "source": [
    "###Python program to unpack a tuple into several variables."
   ]
  },
  {
   "cell_type": "code",
   "execution_count": 4,
   "metadata": {},
   "outputs": [
    {
     "name": "stdout",
     "output_type": "stream",
     "text": [
      "a= 23\n",
      "b= 4\n",
      "c= 55\n",
      "d= 32\n",
      "e= 3\n",
      "f= 1\n"
     ]
    }
   ],
   "source": [
    "n=(23,4,55,32,3,1)\n",
    "a,b,c,d,e,f = n\n",
    "print(\"a=\",a)\n",
    "print(\"b=\",b)\n",
    "print(\"c=\",c)\n",
    "print(\"d=\",d)\n",
    "print(\"e=\",e)\n",
    "print(\"f=\",f)"
   ]
  },
  {
   "cell_type": "markdown",
   "metadata": {},
   "source": [
    "###Python program to add an item to a tuple at index number 2."
   ]
  },
  {
   "cell_type": "code",
   "execution_count": 6,
   "metadata": {},
   "outputs": [
    {
     "name": "stdout",
     "output_type": "stream",
     "text": [
      "New Tuple = (23, 4, 66, 55, 32, 3, 1)\n"
     ]
    }
   ],
   "source": [
    "n=(23,4,55,32,3,1)\n",
    "\n",
    "n_list=list(n)\n",
    "n_list.insert(2,66)\n",
    "\n",
    "n=tuple(n_list)\n",
    "print(\"New Tuple =\",n)"
   ]
  },
  {
   "cell_type": "markdown",
   "metadata": {},
   "source": [
    "###Python program to convert a tuple to a string."
   ]
  },
  {
   "cell_type": "code",
   "execution_count": 8,
   "metadata": {},
   "outputs": [
    {
     "name": "stdout",
     "output_type": "stream",
     "text": [
      "Abdelrahman\n",
      "<class 'str'>\n"
     ]
    }
   ],
   "source": [
    "tuple1=(\"A\",\"b\",\"d\",\"e\",\"l\",\"r\",\"a\",\"h\",\"m\",\"a\",\"n\")\n",
    "str1=''.join(tuple1)\n",
    "print(str1)\n",
    "print(type(str1))"
   ]
  },
  {
   "cell_type": "markdown",
   "metadata": {},
   "source": [
    "###('e', 'x', 'e', 'r', 'c', 'i', 's', 'e', 's') => 'exercises'"
   ]
  },
  {
   "cell_type": "code",
   "execution_count": 15,
   "metadata": {},
   "outputs": [
    {
     "name": "stdout",
     "output_type": "stream",
     "text": [
      "exercises\n"
     ]
    }
   ],
   "source": [
    "e=('e', 'x', 'e', 'r', 'c', 'i', 's', 'e', 's')\n",
    "st=''.join(e)\n",
    "print(st)\n"
   ]
  },
  {
   "cell_type": "markdown",
   "metadata": {},
   "source": [
    "###Python program to find repeated items in a tuple."
   ]
  },
  {
   "cell_type": "code",
   "execution_count": 19,
   "metadata": {},
   "outputs": [
    {
     "name": "stdout",
     "output_type": "stream",
     "text": [
      "reapeated item = {2, 3, 5, 7}\n"
     ]
    }
   ],
   "source": [
    "t2=(2,3,4,2,5,3,5,7,3,5,7)\n",
    "reapeated=set([item for item in t2 if t2.count(item) > 1])\n",
    "print(\"reapeated item =\",reapeated)"
   ]
  },
  {
   "cell_type": "markdown",
   "metadata": {},
   "source": [
    "###Python program to remove an item from a tuple."
   ]
  },
  {
   "cell_type": "code",
   "execution_count": 2,
   "metadata": {},
   "outputs": [
    {
     "name": "stdout",
     "output_type": "stream",
     "text": [
      "(2, 3, 2, 4, 5)\n"
     ]
    }
   ],
   "source": [
    "t=(2,3,44,2,4,5)\n",
    "t_list=list(t)\n",
    "removing=t_list.pop(2)\n",
    "t=tuple(t_list)\n",
    "print(t)"
   ]
  },
  {
   "cell_type": "markdown",
   "metadata": {},
   "source": [
    "###Python program to reverse a tuple."
   ]
  },
  {
   "cell_type": "code",
   "execution_count": 3,
   "metadata": {},
   "outputs": [
    {
     "name": "stdout",
     "output_type": "stream",
     "text": [
      "(7, 6, 5, 4, 3, 2, 1)\n"
     ]
    }
   ],
   "source": [
    "t=(1,2,3,4,5,6,7)\n",
    "reversed_t=t[::-1]\n",
    "print(reversed_t)"
   ]
  },
  {
   "cell_type": "markdown",
   "metadata": {},
   "source": [
    "###Python program to replace the last value of tuples in a list."
   ]
  },
  {
   "cell_type": "code",
   "execution_count": 4,
   "metadata": {},
   "outputs": [
    {
     "name": "stdout",
     "output_type": "stream",
     "text": [
      "(8, 7, 9)\n",
      "(8, 7, 9, 120)\n",
      "[(1, 3, 4), (2, 4, 5), (4, 4, 7), (8, 7, 9, 120)]\n"
     ]
    }
   ],
   "source": [
    "l=[(1,3,4),(2,4,5),(4,4,7),(8,7,9)]\n",
    "last_tuple=l[-1]\n",
    "print(last_tuple)\n",
    "t_new=last_tuple + (120,)\n",
    "l[-1]=t_new\n",
    "print(t_new)\n",
    "print(l)"
   ]
  },
  {
   "cell_type": "markdown",
   "metadata": {},
   "source": [
    "#########################LIST############################"
   ]
  },
  {
   "cell_type": "markdown",
   "metadata": {},
   "source": [
    "###Create a list of your favorite fruits. Add another fruit to the end of the list using append()."
   ]
  },
  {
   "cell_type": "code",
   "execution_count": 5,
   "metadata": {},
   "outputs": [
    {
     "name": "stdout",
     "output_type": "stream",
     "text": [
      "['Mango', 'apple', 'orange', 'banana']\n"
     ]
    }
   ],
   "source": [
    "fruit=[\"Mango\",\"apple\",\"orange\"]\n",
    "fruit.append(\"banana\")\n",
    "print(fruit)\n"
   ]
  },
  {
   "cell_type": "markdown",
   "metadata": {},
   "source": [
    "###Create two lists of numbers, then extend the first list by adding all elements from the second list using extend()"
   ]
  },
  {
   "cell_type": "code",
   "execution_count": 6,
   "metadata": {},
   "outputs": [
    {
     "name": "stdout",
     "output_type": "stream",
     "text": [
      "[2, 3, 4, 5, 6, 7, 8, 9]\n"
     ]
    }
   ],
   "source": [
    "l1=[2,3,4,5,]\n",
    "l2=[6,7,8,9]\n",
    "\n",
    "l1.extend(l2)\n",
    "print(l1)"
   ]
  },
  {
   "cell_type": "markdown",
   "metadata": {},
   "source": [
    "###insert(index, item) Start with a list of colors. Insert a new color at the second position (index 1)."
   ]
  },
  {
   "cell_type": "code",
   "execution_count": 7,
   "metadata": {},
   "outputs": [
    {
     "name": "stdout",
     "output_type": "stream",
     "text": [
      "['black', 'red', 'grey', 'blue']\n"
     ]
    }
   ],
   "source": [
    "colors=[\"black\",\"grey\",\"blue\"]\n",
    "colors.insert(1,\"red\")\n",
    "print(colors)"
   ]
  },
  {
   "cell_type": "markdown",
   "metadata": {},
   "source": [
    "###Create a list of city names with some duplicates. Use remove() to delete the first occurrence of a city"
   ]
  },
  {
   "cell_type": "code",
   "execution_count": 8,
   "metadata": {},
   "outputs": [
    {
     "name": "stdout",
     "output_type": "stream",
     "text": [
      "['giza', 'fayoum', 'cairo', 'banha']\n"
     ]
    }
   ],
   "source": [
    "cities=[\"giza\",\"cairo\",\"fayoum\",\"cairo\",\"banha\"]\n",
    "cities.remove(\"cairo\")\n",
    "print(cities)"
   ]
  },
  {
   "cell_type": "markdown",
   "metadata": {},
   "source": [
    "###pop(index) Make a list of your favorite animals. Use pop() to remove the animal at the third position and store it in a variable."
   ]
  },
  {
   "cell_type": "code",
   "execution_count": 10,
   "metadata": {},
   "outputs": [
    {
     "name": "stdout",
     "output_type": "stream",
     "text": [
      "remoced animal: frog\n",
      "updated list: ['dog', 'cat', 'cow', 'eagle']\n"
     ]
    }
   ],
   "source": [
    "animals=[\"dog\",\"cat\",\"frog\",\"cow\",\"eagle\"]\n",
    "removed_animal=animals.pop(2)\n",
    "print(\"remoced animal:\", removed_animal)\n",
    "print(\"updated list:\", animals)"
   ]
  },
  {
   "cell_type": "markdown",
   "metadata": {},
   "source": [
    "###Create a list of random numbers, then clear it using clear()."
   ]
  },
  {
   "cell_type": "code",
   "execution_count": 11,
   "metadata": {},
   "outputs": [
    {
     "name": "stdout",
     "output_type": "stream",
     "text": [
      "[]\n"
     ]
    }
   ],
   "source": [
    "num=[2,3,7,2,7,8,2,9]\n",
    "num.clear()\n",
    "print(num)"
   ]
  },
  {
   "cell_type": "markdown",
   "metadata": {},
   "source": [
    "########################DICTIONARY########################"
   ]
  },
  {
   "cell_type": "markdown",
   "metadata": {},
   "source": [
    "###Create a dictionary of country capitals. Use get() to retrieve the capital of 'France', with a default value if it’s not in the dictionary."
   ]
  },
  {
   "cell_type": "code",
   "execution_count": 19,
   "metadata": {},
   "outputs": [
    {
     "name": "stdout",
     "output_type": "stream",
     "text": [
      "capital of france:  capital not found\n"
     ]
    }
   ],
   "source": [
    "country_capitals={\n",
    "    \"egypt\":\"cairo\",\n",
    "    \"usa\":\"washington\",\n",
    "    \"germany\":\"berlin\"\n",
    "}\n",
    "capital_of_france=country_capitals.get(\"france\",\"capital not found\")\n",
    "print(\"capital of france: \",capital_of_france)"
   ]
  },
  {
   "cell_type": "markdown",
   "metadata": {},
   "source": [
    "###Make a dictionary of programming languages and their popular frameworks. Use keys() to get a list of all languages."
   ]
  },
  {
   "cell_type": "code",
   "execution_count": 25,
   "metadata": {},
   "outputs": [
    {
     "name": "stdout",
     "output_type": "stream",
     "text": [
      "['python', 'java', 'PHP']\n"
     ]
    }
   ],
   "source": [
    "lang_frameworks={\n",
    "    \"python\":\"django\",\n",
    "    \"java\":\"spring\",\n",
    "    \"PHP\":\"Laravel\"\n",
    "}\n",
    "languages=list(lang_frameworks.keys())\n",
    "print(languages)"
   ]
  },
  {
   "cell_type": "markdown",
   "metadata": {},
   "source": [
    "###Using the previous dictionary, get a list of all frameworks using values()."
   ]
  },
  {
   "cell_type": "code",
   "execution_count": 26,
   "metadata": {},
   "outputs": [
    {
     "name": "stdout",
     "output_type": "stream",
     "text": [
      "['django', 'spring', 'Laravel']\n"
     ]
    }
   ],
   "source": [
    "languages=list(lang_frameworks.values())\n",
    "print(languages)"
   ]
  },
  {
   "cell_type": "markdown",
   "metadata": {},
   "source": [
    "###Use items() to get a list of all key-value pairs in a dictionary representing items and their prices."
   ]
  },
  {
   "cell_type": "code",
   "execution_count": 28,
   "metadata": {},
   "outputs": [
    {
     "name": "stdout",
     "output_type": "stream",
     "text": [
      "[('laptop', 10000), ('mobile', 20000), ('ipad', 5000)]\n"
     ]
    }
   ],
   "source": [
    "item_prices={\n",
    "    \"laptop\":10000,\n",
    "    \"mobile\":20000,\n",
    "    \"ipad\":5000\n",
    "}\n",
    "item_list=list(item_prices.items())\n",
    "print(item_list)"
   ]
  },
  {
   "cell_type": "markdown",
   "metadata": {},
   "source": [
    "###Create a dictionary with some initial values, and then use update() to add more items."
   ]
  },
  {
   "cell_type": "code",
   "execution_count": 29,
   "metadata": {},
   "outputs": [
    {
     "name": "stdout",
     "output_type": "stream",
     "text": [
      "{'laptop': 10000, 'mobile': 20000, 'ipad': 5000, 'tablets': 7000}\n"
     ]
    }
   ],
   "source": [
    "item_prices={\n",
    "    \"laptop\":10000,\n",
    "    \"mobile\":20000,\n",
    "    \"ipad\":5000\n",
    "}\n",
    "\n",
    "additionals={\n",
    "    \"tablets\":7000\n",
    "}\n",
    "\n",
    "item_prices.update(additionals)\n",
    "print(item_prices)"
   ]
  },
  {
   "cell_type": "markdown",
   "metadata": {},
   "source": [
    "###Remove an item from a dictionary of students by using pop(), then store the popped value in a variable."
   ]
  },
  {
   "cell_type": "code",
   "execution_count": 31,
   "metadata": {},
   "outputs": [
    {
     "name": "stdout",
     "output_type": "stream",
     "text": [
      "removed grade 9\n",
      "updated student grades {'ahmed': 10, 'ali': 7.5}\n"
     ]
    }
   ],
   "source": [
    "students_grades={\n",
    "    \"ahmed\":10,\n",
    "    \"mostafa\":9,\n",
    "    \"ali\":7.5\n",
    "}\n",
    "popped_item=students_grades.pop(\"mostafa\")\n",
    "print(\"removed grade\",popped_item)\n",
    "print(\"updated student grades\",students_grades)"
   ]
  },
  {
   "cell_type": "markdown",
   "metadata": {},
   "source": [
    "###Create a dictionary and use clear() to remove all items."
   ]
  },
  {
   "cell_type": "code",
   "execution_count": 32,
   "metadata": {},
   "outputs": [
    {
     "name": "stdout",
     "output_type": "stream",
     "text": [
      "{}\n"
     ]
    }
   ],
   "source": [
    "students_grades={\n",
    "    \"ahmed\":10,\n",
    "    \"mostafa\":9,\n",
    "    \"ali\":7.5\n",
    "}\n",
    "students_grades.clear()\n",
    "print(students_grades)"
   ]
  }
 ],
 "metadata": {
  "kernelspec": {
   "display_name": "Python 3",
   "language": "python",
   "name": "python3"
  },
  "language_info": {
   "codemirror_mode": {
    "name": "ipython",
    "version": 3
   },
   "file_extension": ".py",
   "mimetype": "text/x-python",
   "name": "python",
   "nbconvert_exporter": "python",
   "pygments_lexer": "ipython3",
   "version": "3.12.5"
  }
 },
 "nbformat": 4,
 "nbformat_minor": 2
}
